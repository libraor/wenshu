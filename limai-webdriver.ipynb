{
 "cells": [
  {
   "cell_type": "code",
   "execution_count": null,
   "metadata": {},
   "outputs": [],
   "source": [
    "from selenium import webdriver #webdriver 方法 用于抓取页面\n",
    "from bs4 import BeautifulSoup #BeautifulSoup 方法 用于解析页面\n",
    "\n",
    "driver = webdriver.PhantomJS()\n",
    "#driver.get('http://www.legalminer.com/ajax_search/get_html?t=AND%24%E8%83%A1%E6%B3%95&status=false&userId=&page=9&searchType=cases&sortField=&UserId=&sortType=DESC')\n",
    "#driver.get('http://www.legalminer.com/search/cases?t=AND%24%E8%83%A1%E6%B3%95&status=false&userId=')\n",
    "driver.get('http://www.legalminer.com/cases?id=68938e94-93dd-408f-a252-01dfeb130fae')\n",
    "data = driver.page_source\n",
    "soup = BeautifulSoup(data,\"html.parser\")\n",
    "print(soup.text)\n",
    "#print (data)\n",
    "driver.quit()\n",
    "\n",
    "'''下一步任务：\n",
    "1.抓取标题和链接\n",
    "2.链接还原\n",
    "3.进入案例页面\n",
    "'''"
   ]
  },
  {
   "cell_type": "code",
   "execution_count": null,
   "metadata": {
    "collapsed": true
   },
   "outputs": [],
   "source": []
  }
 ],
 "metadata": {
  "kernelspec": {
   "display_name": "Python 3",
   "language": "python",
   "name": "python3"
  },
  "language_info": {
   "codemirror_mode": {
    "name": "ipython",
    "version": 3
   },
   "file_extension": ".py",
   "mimetype": "text/x-python",
   "name": "python",
   "nbconvert_exporter": "python",
   "pygments_lexer": "ipython3",
   "version": "3.6.1"
  }
 },
 "nbformat": 4,
 "nbformat_minor": 2
}
